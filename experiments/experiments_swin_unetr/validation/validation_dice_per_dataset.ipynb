{
 "cells": [
  {
   "cell_type": "code",
   "execution_count": 1,
   "id": "d4cdb290-2ece-4add-b441-e4e08a69d17d",
   "metadata": {},
   "outputs": [],
   "source": [
    "import json \n",
    "import numpy as np"
   ]
  },
  {
   "cell_type": "code",
   "execution_count": 2,
   "id": "7f93d336-765a-4525-9f10-94c3d65efc26",
   "metadata": {},
   "outputs": [],
   "source": [
    "swinunetr_cross = json.load(open(\"/experiments_Swin-UNETR/validation_dice_calculation/validation_results_per_fold/summary_cross_val.json\"))"
   ]
  },
  {
   "cell_type": "code",
   "execution_count": 4,
   "id": "5987a5f5-683b-4057-a94a-e388fb4025e7",
   "metadata": {},
   "outputs": [],
   "source": [
    "btcv_res = []\n",
    "amos_res = []\n",
    "totalseg_res = []\n",
    "for case in swinunetr_cross['metric_per_case']:\n",
    "    case_name = case['reference_file'].split('/')[-1].split('.')[0]\n",
    "    if case_name.startswith('img'):\n",
    "        dice_per_organ = []\n",
    "        for key in case['metrics'].keys():\n",
    "            dice_per_organ.append(case['metrics'][key])\n",
    "        btcv_res.append(dice_per_organ)\n",
    "    if case_name.startswith('amos'):\n",
    "        dice_per_organ = []\n",
    "        for key in case['metrics'].keys():\n",
    "            dice_per_organ.append(case['metrics'][key])\n",
    "        amos_res.append(dice_per_organ)\n",
    "    if case_name.startswith('s'):\n",
    "        dice_per_organ = []\n",
    "        for key in case['metrics'].keys():\n",
    "            dice_per_organ.append(case['metrics'][key])\n",
    "        totalseg_res.append(dice_per_organ)"
   ]
  },
  {
   "cell_type": "code",
   "execution_count": 9,
   "id": "4e347635-d085-47b8-a4c1-1f09198a4593",
   "metadata": {},
   "outputs": [
    {
     "name": "stdout",
     "output_type": "stream",
     "text": [
      "[90.66 89.47 87.49 68.89 76.41 95.52 90.46 90.77 86.2  80.2  68.69 68.51]\n",
      "82.77\n"
     ]
    }
   ],
   "source": [
    "print(np.mean(btcv_res, axis=0).round(4)*100)\n",
    "print(np.mean(btcv_res).round(4)*100)"
   ]
  },
  {
   "cell_type": "code",
   "execution_count": 10,
   "id": "fc88dd77-acf5-4721-88b3-e7572c1197ad",
   "metadata": {},
   "outputs": [
    {
     "name": "stdout",
     "output_type": "stream",
     "text": [
      "[95.57 94.76 94.34 83.   79.2  96.93 89.9  92.91 87.18 82.61 72.35 71.37]\n",
      "86.68\n"
     ]
    }
   ],
   "source": [
    "print(np.mean(amos_res, axis=0).round(4)*100)\n",
    "print(np.mean(amos_res).round(4)*100)"
   ]
  },
  {
   "cell_type": "code",
   "execution_count": 11,
   "id": "9a27294a-21e8-4fba-b755-ee7341945035",
   "metadata": {},
   "outputs": [
    {
     "name": "stdout",
     "output_type": "stream",
     "text": [
      "[96.89 96.05 95.59 83.38 86.77 98.32 93.73 96.62 92.8  89.06 84.17 84.43]\n",
      "91.47999999999999\n"
     ]
    }
   ],
   "source": [
    "print(np.mean(totalseg_res, axis=0).round(4)*100)\n",
    "print(np.mean(totalseg_res).round(4)*100)"
   ]
  }
 ],
 "metadata": {
  "kernelspec": {
   "display_name": "Python 3 (ipykernel)",
   "language": "python",
   "name": "python3"
  },
  "language_info": {
   "codemirror_mode": {
    "name": "ipython",
    "version": 3
   },
   "file_extension": ".py",
   "mimetype": "text/x-python",
   "name": "python",
   "nbconvert_exporter": "python",
   "pygments_lexer": "ipython3",
   "version": "3.10.13"
  }
 },
 "nbformat": 4,
 "nbformat_minor": 5
}
