{
 "cells": [
  {
   "cell_type": "code",
   "execution_count": 1,
   "metadata": {},
   "outputs": [
    {
     "name": "stdout",
     "output_type": "stream",
     "text": [
      " missing cuda symbols while dynamic loading\n",
      " cuFile initialization failed\n"
     ]
    }
   ],
   "source": [
    "import numpy as np"
   ]
  },
  {
   "cell_type": "code",
   "execution_count": 12,
   "metadata": {},
   "outputs": [],
   "source": [
    "def extract_results_pp(pp_config):\n",
    "    np.set_printoptions(precision=20)\n",
    "    fold_results = []\n",
    "    if pp_config in ['pp1', 'pp2']:\n",
    "        for rate in [0.9, 0.75, 0.25, 0.1]:\n",
    "            fold_0 = np.load(f'/home/nalvarez/experiments_Swin-UNETR/post-processing/results/{pp_config}/rate_{rate}/fold_0.npy')\n",
    "            fold_1 = np.load(f'/home/nalvarez/experiments_Swin-UNETR/post-processing/results/{pp_config}/rate_{rate}/fold_1.npy')\n",
    "            fold_2 = np.load(f'/home/nalvarez/experiments_Swin-UNETR/post-processing/results/{pp_config}/rate_{rate}/fold_2.npy')\n",
    "            fold_3 = np.load(f'/home/nalvarez/experiments_Swin-UNETR/post-processing/results/{pp_config}/rate_{rate}/fold_3.npy')\n",
    "            fold_4 = np.load(f'/home/nalvarez/experiments_Swin-UNETR/post-processing/results/{pp_config}/rate_{rate}/fold_4.npy')\n",
    "\n",
    "            mean_f0 = np.nanmean(fold_0, axis=0)\n",
    "            mean_f1 = np.nanmean(fold_1, axis=0)\n",
    "            mean_f2 = np.nanmean(fold_2, axis=0)\n",
    "            mean_f3 = np.nanmean(fold_3, axis=0)\n",
    "            mean_f4 = np.nanmean(fold_4, axis=0)\n",
    "\n",
    "            folds = np.concatenate(([mean_f0], [mean_f1], [mean_f2], [mean_f3], [mean_f4]))\n",
    "            folds = np.mean(folds, axis=0)\n",
    "            fold_results.append(folds)\n",
    "        # Stack arrays along a new dimension to create a (3, 100, 12) array for comparison\n",
    "        stacked_arrays = np.stack(fold_results)\n",
    "\n",
    "        # Find the maximum value for each of the 12 columns across all arrays\n",
    "        column_max_values = stacked_arrays.max(axis=0)\n",
    "\n",
    "        # Identify the index of the array with the best (maximum) value for each of the 12 columns\n",
    "        best_array_indices = np.argmax(stacked_arrays, axis=0)\n",
    "\n",
    "        # Create a list of tuples (array index, max value) for each column\n",
    "        rate_names = ['0.9', '0.75', '0.25', '0.1']\n",
    "        result_tuples = [(rate_names[int(best_array_indices[i])], column_max_values[i]) for i in range(best_array_indices.shape[0])]\n",
    "\n",
    "        return result_tuples\n",
    "    \n",
    "    else:\n",
    "        fold_0 = np.load(f'/home/nalvarez/experiments_Swin-UNETR/post-processing/results/{pp_config}/fold_0.npy')\n",
    "        fold_1 = np.load(f'/home/nalvarez/experiments_Swin-UNETR/post-processing/results/{pp_config}/fold_1.npy')\n",
    "        fold_2 = np.load(f'/home/nalvarez/experiments_Swin-UNETR/post-processing/results/{pp_config}/fold_2.npy')\n",
    "        fold_3 = np.load(f'/home/nalvarez/experiments_Swin-UNETR/post-processing/results/{pp_config}/fold_3.npy')\n",
    "        fold_4 = np.load(f'/home/nalvarez/experiments_Swin-UNETR/post-processing/results/{pp_config}/fold_4.npy')\n",
    "\n",
    "        mean_f0 = np.nanmean(fold_0, axis=0)\n",
    "        mean_f1 = np.nanmean(fold_1, axis=0)\n",
    "        mean_f2 = np.nanmean(fold_2, axis=0)\n",
    "        mean_f3 = np.nanmean(fold_3, axis=0)\n",
    "        mean_f4 = np.nanmean(fold_4, axis=0)\n",
    "\n",
    "        folds = np.concatenate(([mean_f0], [mean_f1], [mean_f2], [mean_f3], [mean_f4]))\n",
    "        folds = np.mean(folds, axis=0)\n",
    "\n",
    "        return folds"
   ]
  },
  {
   "cell_type": "code",
   "execution_count": 3,
   "metadata": {},
   "outputs": [],
   "source": [
    "def compare_results(pp_res_list):\n",
    "    # Stack arrays along a new dimension to create a (3, 100, 12) array for comparison\n",
    "    stacked_arrays = np.stack(pp_res_list)\n",
    "\n",
    "    # Find the maximum value for each of the 12 columns across all arrays\n",
    "    column_max_values = stacked_arrays.max(axis=0)\n",
    "\n",
    "    # Identify the index of the array with the best (maximum) value for each of the 12 columns\n",
    "    best_array_indices = np.argmax(stacked_arrays, axis=0)\n",
    "\n",
    "    # Create a list of tuples (array index, max value) for each column\n",
    "    rate_names = ['no pp', 'pp1', 'pp2', 'pp3', 'pp4']\n",
    "    result_tuples = [(rate_names[int(best_array_indices[i])], column_max_values[i]) for i in range(best_array_indices.shape[0])]\n",
    "\n",
    "    return result_tuples"
   ]
  },
  {
   "cell_type": "code",
   "execution_count": 49,
   "metadata": {},
   "outputs": [],
   "source": [
    "no_pp = extract_results_pp('no_pp')\n",
    "pp1 = extract_results_pp('pp1')\n",
    "pp1 = [x[1] for x in pp1]\n",
    "pp2 = extract_results_pp('pp2')\n",
    "pp2 = [x[1] for x in pp2]\n",
    "pp3 = extract_results_pp('pp3')\n",
    "pp4 = extract_results_pp('pp4')"
   ]
  },
  {
   "cell_type": "code",
   "execution_count": 46,
   "metadata": {},
   "outputs": [
    {
     "name": "stdout",
     "output_type": "stream",
     "text": [
      "[0.9608854585795947 0.9523601632408664 0.9472658106397883\n",
      " 0.826098718463375  0.8327974204334339 0.9764277073039554\n",
      " 0.9204760986766711 0.9487521221843365 0.9026456960855533\n",
      " 0.860854749363128  0.787679463935174  0.7850235718091965]\n",
      "0.8917722483929227\n"
     ]
    }
   ],
   "source": [
    "print(no_pp)\n",
    "print(np.mean(no_pp, axis=0))"
   ]
  },
  {
   "cell_type": "code",
   "execution_count": 47,
   "metadata": {},
   "outputs": [
    {
     "data": {
      "text/plain": [
       "[('0.9', 0.9606436098252733),\n",
       " ('0.9', 0.9534711925943109),\n",
       " ('0.9', 0.9508893757317558),\n",
       " ('0.9', 0.826098718463375),\n",
       " ('0.9', 0.8328319383144397),\n",
       " ('0.75', 0.9771779810891752),\n",
       " ('0.9', 0.9205008034732242),\n",
       " ('0.9', 0.949279788145771),\n",
       " ('0.25', 0.9028751460232233),\n",
       " ('0.1', 0.8610854114232378),\n",
       " ('0.1', 0.7876390238525265),\n",
       " ('0.9', 0.7852114560855445)]"
      ]
     },
     "execution_count": 47,
     "metadata": {},
     "output_type": "execute_result"
    }
   ],
   "source": [
    "pp1"
   ]
  },
  {
   "cell_type": "code",
   "execution_count": 48,
   "metadata": {},
   "outputs": [
    {
     "data": {
      "text/plain": [
       "[('0.9', 0.9611286459449844),\n",
       " ('0.9', 0.9534711925943109),\n",
       " ('0.9', 0.9508893757317558),\n",
       " ('0.9', 0.826098718463375),\n",
       " ('0.9', 0.8328319383144397),\n",
       " ('0.9', 0.9771779810891752),\n",
       " ('0.9', 0.9205008034732242),\n",
       " ('0.9', 0.949279788145771),\n",
       " ('0.25', 0.9028751460232233),\n",
       " ('0.25', 0.8610996804264929),\n",
       " ('0.1', 0.7876390238525265),\n",
       " ('0.9', 0.785261539296713)]"
      ]
     },
     "execution_count": 48,
     "metadata": {},
     "output_type": "execute_result"
    }
   ],
   "source": [
    "pp2"
   ]
  },
  {
   "cell_type": "code",
   "execution_count": 50,
   "metadata": {},
   "outputs": [],
   "source": [
    "results = compare_results([no_pp, pp1, pp2, pp3, pp4])"
   ]
  },
  {
   "cell_type": "code",
   "execution_count": 51,
   "metadata": {},
   "outputs": [
    {
     "data": {
      "text/plain": [
       "[('pp3', 0.9622761459200897),\n",
       " ('pp3', 0.954037557487581),\n",
       " ('pp3', 0.9514326379143003),\n",
       " ('pp3', 0.8270579757082744),\n",
       " ('pp1', 0.8328319383144397),\n",
       " ('pp1', 0.9771779810891752),\n",
       " ('pp3', 0.9214943070673899),\n",
       " ('pp1', 0.949279788145771),\n",
       " ('pp1', 0.9028751460232233),\n",
       " ('pp2', 0.8610996804264929),\n",
       " ('no pp', 0.787679463935174),\n",
       " ('pp3', 0.7871742995817308)]"
      ]
     },
     "execution_count": 51,
     "metadata": {},
     "output_type": "execute_result"
    }
   ],
   "source": [
    "results"
   ]
  },
  {
   "cell_type": "code",
   "execution_count": 52,
   "metadata": {},
   "outputs": [
    {
     "data": {
      "text/plain": [
       "array([96.228, 95.404, 95.143, 82.706, 83.283, 97.718, 92.149, 94.928,\n",
       "       90.288, 86.11 , 78.768, 78.717])"
      ]
     },
     "execution_count": 52,
     "metadata": {},
     "output_type": "execute_result"
    }
   ],
   "source": [
    "(np.array([x[1] for x in results]) * 100).round(3)"
   ]
  },
  {
   "cell_type": "code",
   "execution_count": 64,
   "metadata": {},
   "outputs": [
    {
     "data": {
      "text/plain": [
       "89.287"
      ]
     },
     "execution_count": 64,
     "metadata": {},
     "output_type": "execute_result"
    }
   ],
   "source": [
    "np.mean((np.array([x[1] for x in results]) * 100)).round(3)"
   ]
  },
  {
   "cell_type": "code",
   "execution_count": 62,
   "metadata": {},
   "outputs": [
    {
     "data": {
      "text/plain": [
       "array([0.9622761459200897, 0.954037557487581 , 0.9514326379143003,\n",
       "       0.8270579757082744, 0.8328319383144397, 0.9771779810891752,\n",
       "       0.9214943070673899, 0.949279788145771 , 0.9028751460232233,\n",
       "       0.8610996804264929, 0.787679463935174 , 0.7871742995817308])"
      ]
     },
     "execution_count": 62,
     "metadata": {},
     "output_type": "execute_result"
    }
   ],
   "source": [
    "np.array([x[1] for x in results])"
   ]
  },
  {
   "cell_type": "code",
   "execution_count": 67,
   "metadata": {},
   "outputs": [
    {
     "data": {
      "text/plain": [
       "array([0.139, 0.168, 0.417, 0.096, 0.003, 0.075, 0.102, 0.053, 0.023,\n",
       "       0.024, 0.   , 0.215])"
      ]
     },
     "execution_count": 67,
     "metadata": {},
     "output_type": "execute_result"
    }
   ],
   "source": [
    "((np.array([x[1] for x in results]) * 100) - (no_pp * 100)).round(3)"
   ]
  }
 ],
 "metadata": {
  "kernelspec": {
   "display_name": "Python 3 (ipykernel)",
   "language": "python",
   "name": "python3"
  },
  "language_info": {
   "codemirror_mode": {
    "name": "ipython",
    "version": 3
   },
   "file_extension": ".py",
   "mimetype": "text/x-python",
   "name": "python",
   "nbconvert_exporter": "python",
   "pygments_lexer": "ipython3",
   "version": "3.10.13"
  }
 },
 "nbformat": 4,
 "nbformat_minor": 4
}
