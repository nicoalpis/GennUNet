{
 "cells": [
  {
   "cell_type": "code",
   "execution_count": 1,
   "metadata": {},
   "outputs": [
    {
     "name": "stdout",
     "output_type": "stream",
     "text": [
      " missing cuda symbols while dynamic loading\n",
      " cuFile initialization failed\n"
     ]
    }
   ],
   "source": [
    "import monai\n",
    "import numpy as np\n",
    "import os\n",
    "from tqdm import tqdm\n",
    "import torch\n",
    "from monai.networks.nets import SwinUNETR\n",
    "\n",
    "from monai.transforms import (\n",
    "    Compose,\n",
    "    LoadImaged,\n",
    "    Orientationd,\n",
    "    ScaleIntensityRanged,\n",
    "    Spacingd,\n",
    "    EnsureChannelFirstd,\n",
    "    SpatialPadd,\n",
    ")"
   ]
  },
  {
   "cell_type": "code",
   "execution_count": 2,
   "metadata": {},
   "outputs": [],
   "source": [
    "def nnunet_dice(mask_pred: np.ndarray, mask_ref: np.ndarray):\n",
    "    dice_scores = []\n",
    "    for organ_class in range(1, 13):\n",
    "        gt = (mask_ref == organ_class)\n",
    "        pred = (mask_pred == organ_class)\n",
    "        use_mask = np.ones_like(gt, dtype=bool)\n",
    "        \n",
    "        tp = np.sum((gt & pred) & use_mask)\n",
    "        fp = np.sum(((~gt) & pred) & use_mask)\n",
    "        fn = np.sum((gt & (~pred)) & use_mask)\n",
    "        \n",
    "        if tp + fp + fn == 0 or len(np.unique(gt)) == 1:\n",
    "            dice_scores.append(np.nan)\n",
    "        else:\n",
    "            dice_scores.append(2 * tp / (2 * tp + fp + fn))\n",
    "    \n",
    "    return dice_scores"
   ]
  },
  {
   "cell_type": "code",
   "execution_count": null,
   "metadata": {
    "scrolled": true
   },
   "outputs": [],
   "source": [
    "num_samples_per_image = 2\n",
    "patch_size = [160, 64, 128]\n",
    "\n",
    "post_label = monai.transforms.AsDiscrete(to_onehot=13)\n",
    "post_pred = monai.transforms.AsDiscrete(argmax=True, to_onehot=13)\n",
    "post_pred_to_save = monai.transforms.AsDiscrete(argmax=True)\n",
    "\n",
    "val_transforms = Compose(\n",
    "    [\n",
    "        LoadImaged(keys=[\"image\", \"label\"]),\n",
    "        EnsureChannelFirstd(keys=[\"image\", \"label\"], channel_dim=\"no_channel\"),\n",
    "        Spacingd(\n",
    "            keys=[\"image\", \"label\"],\n",
    "            pixdim=(1.5, 1.5, 1.5),\n",
    "            mode=(\"bilinear\", \"nearest\"),\n",
    "        ),\n",
    "        Orientationd(keys=[\"image\", \"label\"], axcodes=\"RAS\"),\n",
    "        ScaleIntensityRanged(\n",
    "            keys=[\"image\"],\n",
    "            a_min=-982,\n",
    "            a_max=1094,\n",
    "            b_min=0.0,\n",
    "            b_max=1.0,\n",
    "            clip=True,\n",
    "        ),\n",
    "        SpatialPadd(keys=[\"image\", \"label\"], spatial_size=patch_size),\n",
    "    ]\n",
    ")\n",
    "\n",
    "source_pred_folder = \"/BTCV/Abdomen/RawData/Dataset050_BTCV/imagesTs\"\n",
    "gt_dir = \"/nnUNet/inference/btcv_inference/btcv_zenodo_labelsTs/\"\n",
    "\n",
    "for pred_image, gt_image in tqdm(zip(sorted(os.listdir(source_pred_folder)), sorted(os.listdir(source_pred_folder)))):\n",
    "    try:\n",
    "        test_data = val_transforms({'image': str(os.path.join(source_pred_folder, pred_image)), 'path': str(os.path.join(source_pred_folder, pred_image)), 'label': os.path.join(gt_dir, 'label'+pred_image[3:7]+'.nii.gz')})\n",
    "        for fold in range(0, 5):\n",
    "            os.environ[\"CUDA_DEVICE_ORDER\"] = \"PCI_BUS_ID\"\n",
    "            device = torch.device(\"cuda\" if torch.cuda.is_available() else \"cpu\")\n",
    "            \n",
    "            model = SwinUNETR(\n",
    "            img_size=patch_size,\n",
    "            in_channels=1,\n",
    "            out_channels=13,\n",
    "            feature_size=48,\n",
    "            use_checkpoint=True,\n",
    "            ).to(device)\n",
    "        \n",
    "            weight = torch.load(f\"/experiments_Swin-UNETR/fold_{fold}/output/swin_unetr_fold_{fold}_best_metric_model.pth\")\n",
    "            model.load_state_dict(weight['state_dict'])\n",
    "    \n",
    "            model.eval()\n",
    "            with torch.no_grad():\n",
    "                test_data[f'fold_{fold}_pred'] = monai.inferers.sliding_window_inference(torch.unsqueeze(test_data['image'], axis=0).to(device), patch_size, num_samples_per_image, model, overlap=0.5)\n",
    "        test_data['ensembled_pred'] = []\n",
    "        test_data = monai.transforms.MeanEnsembled(keys=['fold_0_pred', 'fold_1_pred', 'fold_2_pred', 'fold_3_pred', 'fold_4_pred'], output_key='ensembled_pred')(test_data)\n",
    "        prediction = post_pred_to_save(test_data['ensembled_pred'][0])\n",
    "\n",
    "        test_volume_no_preprocess = monai.transforms.LoadImage()(test_data[\"path\"])\n",
    "        \n",
    "        prediction = monai.transforms.ResampleToMatch()(img=prediction, img_dst=torch.unsqueeze(test_volume_no_preprocess, axis=0), mode='nearest')\n",
    "        monai.transforms.SaveImage(output_dir=f\"/swin_unetr/inference/btcv_test_set/preds\", output_postfix='', separate_folder=False)(prediction)\n",
    "    except Exception as e:\n",
    "        print(e)\n",
    "        continue"
   ]
  },
  {
   "cell_type": "code",
   "execution_count": 25,
   "metadata": {},
   "outputs": [],
   "source": [
    "preds_dir = \"/swin_unetr/inference/btcv_test_set/preds/\"\n",
    "gt_dir = \"/nnUNet/inference/btcv_inference/btcv_zenodo_labelsTs/\"\n",
    "\n",
    "results = []\n",
    "for pred_name in sorted(os.listdir(preds_dir)):\n",
    "    try:\n",
    "        pred = monai.transforms.LoadImage()(os.path.join(preds_dir, pred_name))\n",
    "        gt = monai.transforms.LoadImage()(os.path.join(gt_dir, 'label'+pred_name[3:]))\n",
    "\n",
    "        # Fix masks of gt\n",
    "        gt[gt == 10] = 0\n",
    "        gt[gt == 11] = 10\n",
    "        gt[gt == 12] = 11\n",
    "        gt[gt == 13] = 12\n",
    "        gt[gt == 14] = 0\n",
    "\n",
    "        result = nnunet_dice(pred, gt)\n",
    "        results.append(result)\n",
    "    except Exception as e:\n",
    "        print(e)\n",
    "        continue"
   ]
  },
  {
   "cell_type": "code",
   "execution_count": 27,
   "metadata": {},
   "outputs": [
    {
     "name": "stdout",
     "output_type": "stream",
     "text": [
      "[0.96180299        nan 0.92543159 0.80515797 0.56672239 0.96572562\n",
      " 0.90420266        nan        nan 0.83895893        nan        nan]\n",
      "0.8531750499357907\n"
     ]
    },
    {
     "name": "stderr",
     "output_type": "stream",
     "text": [
      "Mean of empty slice\n"
     ]
    }
   ],
   "source": [
    "print(np.nanmean(results, axis=0))\n",
    "print(np.nanmean(results))"
   ]
  }
 ],
 "metadata": {
  "kernelspec": {
   "display_name": "Python 3 (ipykernel)",
   "language": "python",
   "name": "python3"
  },
  "language_info": {
   "codemirror_mode": {
    "name": "ipython",
    "version": 3
   },
   "file_extension": ".py",
   "mimetype": "text/x-python",
   "name": "python",
   "nbconvert_exporter": "python",
   "pygments_lexer": "ipython3",
   "version": "3.10.13"
  }
 },
 "nbformat": 4,
 "nbformat_minor": 4
}
