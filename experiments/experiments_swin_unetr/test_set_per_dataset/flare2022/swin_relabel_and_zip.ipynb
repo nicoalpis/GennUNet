{
 "cells": [
  {
   "cell_type": "code",
   "execution_count": 9,
   "id": "f6d2e44e-7a0a-49a4-8e22-0bf6ee11cc46",
   "metadata": {},
   "outputs": [],
   "source": [
    "import shutil\n",
    "import os\n",
    "import monai\n",
    "import numpy as np\n",
    "from tqdm.notebook import tqdm"
   ]
  },
  {
   "cell_type": "markdown",
   "id": "861a8bb4-5c7c-48f3-963a-4e7108c43046",
   "metadata": {},
   "source": [
    "## Re-label"
   ]
  },
  {
   "cell_type": "code",
   "execution_count": 10,
   "id": "c33f74b4-b11f-4480-abce-2dd7c2264702",
   "metadata": {},
   "outputs": [],
   "source": [
    "corrections = {\n",
    "    6:1,\n",
    "    2:2,\n",
    "    1:3,\n",
    "    10:4,\n",
    "    8:5,\n",
    "    9:6,\n",
    "    11:7,\n",
    "    12:8,\n",
    "    4:9,\n",
    "    5:10,\n",
    "    7:11,\n",
    "    3:13\n",
    "}"
   ]
  },
  {
   "cell_type": "code",
   "execution_count": 11,
   "id": "f6afd115-5976-4798-9ae8-6cd375555815",
   "metadata": {},
   "outputs": [
    {
     "data": {
      "application/vnd.jupyter.widget-view+json": {
       "model_id": "14abc4575f1c4c68a13afc0f8873e123",
       "version_major": 2,
       "version_minor": 0
      },
      "text/plain": [
       "  0%|          | 0/200 [00:00<?, ?it/s]"
      ]
     },
     "metadata": {},
     "output_type": "display_data"
    }
   ],
   "source": [
    "preds_dir = \"/swin_unetr/inference/flare2022_test_set/preds\"\n",
    "\n",
    "for scan_name in tqdm(os.listdir(preds_dir)):\n",
    "    pred = monai.transforms.LoadImage()(os.path.join(preds_dir, scan_name))\n",
    "\n",
    "    new_pred = np.zeros(pred.shape)\n",
    "    for key, value in corrections.items():\n",
    "        new_pred[pred == key] = value\n",
    "\n",
    "    monai.transforms.SaveImage(channel_dim=None, output_dtype=np.uint8, print_log=False, output_dir=\"/swin_unetr/inference/flare2022_test_set/preds_corrected\", output_postfix='', separate_folder=False)(new_pred)\n",
    "    os.rename(\"/swin_unetr/inference/flare2022_test_set/preds_corrected/0.nii.gz\", f\"/swin_unetr/inference/flare2022_test_set/preds_corrected/{scan_name}\")"
   ]
  },
  {
   "cell_type": "markdown",
   "id": "5a7e135c-e673-4af4-a8fd-059fb4d1b7d0",
   "metadata": {},
   "source": [
    "## ZIP"
   ]
  },
  {
   "cell_type": "code",
   "execution_count": null,
   "id": "212ce538-3f07-490d-907d-0b4642a11e8a",
   "metadata": {},
   "outputs": [],
   "source": [
    "shutil.make_archive('/swin_unetr/inference/flare2022_test_set/preds_corrected', 'zip', \"/swin_unetr/inference/flare2022_test_set/preds_corrected/\")"
   ]
  }
 ],
 "metadata": {
  "kernelspec": {
   "display_name": "Python 3 (ipykernel)",
   "language": "python",
   "name": "python3"
  },
  "language_info": {
   "codemirror_mode": {
    "name": "ipython",
    "version": 3
   },
   "file_extension": ".py",
   "mimetype": "text/x-python",
   "name": "python",
   "nbconvert_exporter": "python",
   "pygments_lexer": "ipython3",
   "version": "3.10.13"
  }
 },
 "nbformat": 4,
 "nbformat_minor": 5
}
