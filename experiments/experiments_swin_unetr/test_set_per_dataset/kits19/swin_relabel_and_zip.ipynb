{
 "cells": [
  {
   "cell_type": "code",
   "execution_count": 1,
   "id": "f6d2e44e-7a0a-49a4-8e22-0bf6ee11cc46",
   "metadata": {},
   "outputs": [
    {
     "name": "stdout",
     "output_type": "stream",
     "text": [
      " missing cuda symbols while dynamic loading\n",
      " cuFile initialization failed\n"
     ]
    }
   ],
   "source": [
    "import shutil\n",
    "import os\n",
    "import monai\n",
    "import numpy as np\n",
    "import matplotlib.pyplot as plt\n",
    "from tqdm.notebook import tqdm"
   ]
  },
  {
   "cell_type": "markdown",
   "id": "861a8bb4-5c7c-48f3-963a-4e7108c43046",
   "metadata": {},
   "source": [
    "## Re-label"
   ]
  },
  {
   "cell_type": "code",
   "execution_count": 2,
   "id": "c33f74b4-b11f-4480-abce-2dd7c2264702",
   "metadata": {},
   "outputs": [],
   "source": [
    "corrections = {\n",
    "    1:0,\n",
    "    2:1,\n",
    "    3:1,\n",
    "    4:0,\n",
    "    5:0,\n",
    "    6:0,\n",
    "    7:0,\n",
    "    8:0,\n",
    "    9:0,\n",
    "    10:0,\n",
    "    11:0,\n",
    "    12:0\n",
    "}"
   ]
  },
  {
   "cell_type": "code",
   "execution_count": 3,
   "id": "f6afd115-5976-4798-9ae8-6cd375555815",
   "metadata": {},
   "outputs": [
    {
     "data": {
      "application/vnd.jupyter.widget-view+json": {
       "model_id": "38fffb03dead4ffe86899ad6fb9663b3",
       "version_major": 2,
       "version_minor": 0
      },
      "text/plain": [
       "  0%|          | 0/90 [00:00<?, ?it/s]"
      ]
     },
     "metadata": {},
     "output_type": "display_data"
    }
   ],
   "source": [
    "preds_dir = \"/swin_unetr/inference/kits19_test_set/preds\"\n",
    "\n",
    "for scan_name in tqdm(sorted(os.listdir(preds_dir))):\n",
    "    pred, meta = monai.transforms.LoadImage(image_only=False)(os.path.join(preds_dir, scan_name))\n",
    "\n",
    "    new_pred = np.zeros(pred.shape)\n",
    "    for key, value in corrections.items():\n",
    "        new_pred[pred == key] = value\n",
    "\n",
    "    monai.transforms.SaveImage(channel_dim=None, output_dtype=np.uint8, print_log=False, output_dir=\"/swin_unetr/inference/kits19_test_set/preds_corrected/\", output_postfix='', separate_folder=False)(new_pred, meta_data=meta)"
   ]
  },
  {
   "cell_type": "markdown",
   "id": "5a7e135c-e673-4af4-a8fd-059fb4d1b7d0",
   "metadata": {},
   "source": [
    "## ZIP"
   ]
  },
  {
   "cell_type": "code",
   "execution_count": null,
   "id": "212ce538-3f07-490d-907d-0b4642a11e8a",
   "metadata": {},
   "outputs": [],
   "source": [
    "shutil.make_archive('/swin_unetr/inference/kits19_test_set/preds_corrected_kits19_swin', 'zip', \"/swin_unetr/inference/kits19_test_set/preds_corrected/\")"
   ]
  }
 ],
 "metadata": {
  "kernelspec": {
   "display_name": "Python 3 (ipykernel)",
   "language": "python",
   "name": "python3"
  },
  "language_info": {
   "codemirror_mode": {
    "name": "ipython",
    "version": 3
   },
   "file_extension": ".py",
   "mimetype": "text/x-python",
   "name": "python",
   "nbconvert_exporter": "python",
   "pygments_lexer": "ipython3",
   "version": "3.10.13"
  }
 },
 "nbformat": 4,
 "nbformat_minor": 5
}
