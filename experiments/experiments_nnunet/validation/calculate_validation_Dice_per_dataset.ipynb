{
 "cells": [
  {
   "cell_type": "code",
   "execution_count": 86,
   "metadata": {},
   "outputs": [],
   "source": [
    "import monai\n",
    "import os\n",
    "import numpy as np\n",
    "import nibabel as nib\n",
    "import torch\n",
    "import json\n",
    "from tqdm import tqdm\n",
    "import pandas as pd"
   ]
  },
  {
   "cell_type": "code",
   "execution_count": 2,
   "metadata": {},
   "outputs": [],
   "source": [
    "dice_metric = monai.metrics.DiceMetric(include_background=False, reduction=\"none\", get_not_nans=False)\n",
    "post_label = monai.transforms.AsDiscrete(to_onehot=13)\n",
    "post_pred = monai.transforms.AsDiscrete(to_onehot=13)"
   ]
  },
  {
   "cell_type": "code",
   "execution_count": 87,
   "metadata": {},
   "outputs": [],
   "source": [
    "data_classes = ['spleen', 'kidney_right', 'kidney_left', 'gallbladder', 'esophagus', 'liver', 'stomach', 'aorta', 'inferior_vena_cava', 'pancreas', 'adrenal_gland_right', 'adrenal_gland_left']"
   ]
  },
  {
   "cell_type": "code",
   "execution_count": 88,
   "metadata": {},
   "outputs": [],
   "source": [
    "def nnunet_dice(mask_pred: np.ndarray, mask_ref: np.ndarray):\n",
    "    dice_scores = []\n",
    "    for organ_class in range(1, 13):\n",
    "        gt = (mask_ref == organ_class)\n",
    "        pred = (mask_pred == organ_class)\n",
    "        use_mask = np.ones_like(gt, dtype=bool)\n",
    "        \n",
    "        tp = np.sum((gt & pred) & use_mask)\n",
    "        fp = np.sum(((~gt) & pred) & use_mask)\n",
    "        fn = np.sum((gt & (~pred)) & use_mask)\n",
    "        \n",
    "        if tp + fp + fn == 0:\n",
    "            dice_scores.append(np.nan)\n",
    "        else:\n",
    "            dice_scores.append(2 * tp / (2 * tp + fp + fn))\n",
    "    \n",
    "    return dice_scores"
   ]
  },
  {
   "cell_type": "code",
   "execution_count": 90,
   "metadata": {},
   "outputs": [],
   "source": [
    "old_meta = pd.read_csv(\"/data_analysis/merged_metadata.csv\")['id']\n",
    "\n",
    "accepted_names = []\n",
    "\n",
    "for name in old_meta:\n",
    "    splits = name.split('_')\n",
    "    if len(splits) > 1 and int(splits[1]) <= 500:\n",
    "        accepted_names.append(name)\n",
    "    elif len(splits) == 1:\n",
    "        accepted_names.append(name)\n",
    "\n",
    "for scan_name in os.listdir(\"/nnUNet/preprocessed_data/Dataset060_Merged_Def/gt_segmentations\"):\n",
    "    if scan_name.startswith('img'):\n",
    "        accepted_names.append(scan_name.split('.')[0])"
   ]
  },
  {
   "cell_type": "code",
   "execution_count": 92,
   "metadata": {},
   "outputs": [
    {
     "data": {
      "text/plain": [
       "680"
      ]
     },
     "execution_count": 92,
     "metadata": {},
     "output_type": "execute_result"
    }
   ],
   "source": [
    "len(accepted_names)"
   ]
  },
  {
   "cell_type": "code",
   "execution_count": 89,
   "metadata": {},
   "outputs": [],
   "source": [
    "def per_dataset(dataset):\n",
    "    datasets = ['btcv', 'amos', 'totalseg']\n",
    "    if dataset not in datasets:\n",
    "        raise ValueError(\"Invalid dataset name. Expected one of: %s\" % datasets)\n",
    "\n",
    "    inference_folder = os.path.join(\"/nnUNet/inference/\")\n",
    "\n",
    "\n",
    "    #splits = json.load(open('/nnUNet/preprocessed_data/Dataset053_MergedWithPathologies/splits_final.json'))\n",
    "    load_image = monai.transforms.LoadImage()\n",
    "\n",
    "    pattern = 0\n",
    "    if dataset == 'btcv':  pattern = 'img'\n",
    "    if dataset == 'amos':  pattern = 'amos'\n",
    "    if dataset == 'totalseg':  pattern = 's'\n",
    "\n",
    "    num_folds = 5\n",
    "    class_res = []\n",
    "    for fold in tqdm(range(num_folds)):\n",
    "        fold_folder = os.path.join(inference_folder, 'fold_' + str(fold))\n",
    "        input_folder = os.path.join(fold_folder, 'preds')\n",
    "        gt_folder = os.path.join(fold_folder, 'gt')\n",
    "        pred_names = sorted(file for file in os.listdir(input_folder) if file.endswith(\".nii.gz\"))\n",
    "        gt_names = sorted(os.listdir(gt_folder))\n",
    "        for pred_name, gt_name in tqdm(zip(pred_names, gt_names)):\n",
    "            if pred_name.startswith(pattern) and pred_name.split('.')[0] in accepted_names:\n",
    "                dice_scores = nnunet_dice(load_image(os.path.join(input_folder, pred_name)), load_image(os.path.join(gt_folder, gt_name)))\n",
    "\n",
    "                class_res.append(dice_scores)\n",
    "\n",
    "    mean_class_res = np.nanmean(class_res, axis=0)\n",
    "    return np.nanmean(mean_class_res), mean_class_res"
   ]
  },
  {
   "cell_type": "code",
   "execution_count": 93,
   "metadata": {},
   "outputs": [
    {
     "name": "stderr",
     "output_type": "stream",
     "text": [
      "170it [00:24,  7.07it/s]:00<?, ?it/s]\n",
      "170it [00:36,  4.72it/s]:24<01:36, 24.07s/it]\n",
      "169it [00:41,  4.03it/s]:00<01:33, 31.11s/it]\n",
      "169it [00:23,  7.24it/s]:42<01:12, 36.07s/it]\n",
      "169it [00:17,  9.62it/s]:05<00:31, 31.05s/it]\n",
      "100%|██████████| 5/5 [02:23<00:00, 28.60s/it]\n"
     ]
    },
    {
     "data": {
      "text/plain": [
       "(0.8597102980832645,\n",
       " array([0.9554186586875473, 0.9164737610884095, 0.9416819174270082,\n",
       "        0.7150160930331665, 0.7921410762610425, 0.9681061325682294,\n",
       "        0.9343983383768842, 0.9236569465386706, 0.8814241177421734,\n",
       "        0.8338661348142795, 0.7338441621916609, 0.720496238270102 ]))"
      ]
     },
     "execution_count": 93,
     "metadata": {},
     "output_type": "execute_result"
    }
   ],
   "source": [
    "per_dataset('btcv')"
   ]
  },
  {
   "cell_type": "code",
   "execution_count": 44,
   "metadata": {},
   "outputs": [
    {
     "name": "stderr",
     "output_type": "stream",
     "text": [
      "100%|██████████| 5/5 [32:53<00:00, 394.65s/it]\n"
     ]
    },
    {
     "data": {
      "text/plain": [
       "(0.903191627615454,\n",
       " array([0.96931269, 0.96362673, 0.95894844, 0.87630084, 0.8558492 ,\n",
       "        0.97628755, 0.92722287, 0.95438065, 0.90723227, 0.86089942,\n",
       "        0.78775857, 0.8004803 ]))"
      ]
     },
     "execution_count": 44,
     "metadata": {},
     "output_type": "execute_result"
    }
   ],
   "source": [
    "per_dataset('amos')"
   ]
  },
  {
   "cell_type": "code",
   "execution_count": 61,
   "metadata": {},
   "outputs": [
    {
     "name": "stderr",
     "output_type": "stream",
     "text": [
      "170it [02:00,  1.42it/s]:00<?, ?it/s]\n",
      "170it [02:28,  1.14it/s]:00<08:00, 120.04s/it]\n",
      "169it [02:29,  1.13it/s]:28<06:50, 137.00s/it]\n",
      "169it [02:16,  1.24it/s]:58<04:45, 142.79s/it]\n",
      "169it [02:05,  1.34it/s]:15<02:20, 140.42s/it]\n",
      "100%|██████████| 5/5 [11:21<00:00, 136.28s/it]\n"
     ]
    },
    {
     "data": {
      "text/plain": [
       "(0.9425105963400348,\n",
       " array([0.97797404, 0.970631  , 0.96993605, 0.87453245, 0.9219088 ,\n",
       "        0.98790338, 0.95326074, 0.97767958, 0.95144403, 0.9218948 ,\n",
       "        0.9026587 , 0.90030359]))"
      ]
     },
     "execution_count": 61,
     "metadata": {},
     "output_type": "execute_result"
    }
   ],
   "source": [
    "per_dataset('totalseg')"
   ]
  }
 ],
 "metadata": {
  "kernelspec": {
   "display_name": "Python 3 (ipykernel)",
   "language": "python",
   "name": "python3"
  },
  "language_info": {
   "codemirror_mode": {
    "name": "ipython",
    "version": 3
   },
   "file_extension": ".py",
   "mimetype": "text/x-python",
   "name": "python",
   "nbconvert_exporter": "python",
   "pygments_lexer": "ipython3",
   "version": "3.10.13"
  }
 },
 "nbformat": 4,
 "nbformat_minor": 4
}
