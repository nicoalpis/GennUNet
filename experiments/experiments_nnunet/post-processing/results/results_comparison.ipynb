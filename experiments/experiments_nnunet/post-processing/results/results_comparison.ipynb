{
 "cells": [
  {
   "cell_type": "code",
   "execution_count": 1,
   "metadata": {},
   "outputs": [
    {
     "name": "stdout",
     "output_type": "stream",
     "text": [
      " missing cuda symbols while dynamic loading\n",
      " cuFile initialization failed\n"
     ]
    }
   ],
   "source": [
    "import numpy as np"
   ]
  },
  {
   "cell_type": "code",
   "execution_count": 2,
   "metadata": {},
   "outputs": [],
   "source": [
    "def extract_results_pp(pp_config):\n",
    "    np.set_printoptions(precision=20)\n",
    "    fold_results = []\n",
    "    if pp_config in ['pp1', 'pp2']:\n",
    "        for rate in [0.9, 0.75, 0.25, 0.1]:\n",
    "            fold_0 = np.load(f'/nnUNet_inference/post-processing/results/{pp_config}/rate_{rate}/fold_0.npy')\n",
    "            fold_1 = np.load(f'/nnUNet_inference/post-processing/results/{pp_config}/rate_{rate}/fold_1.npy')\n",
    "            fold_2 = np.load(f'/nnUNet_inference/post-processing/results/{pp_config}/rate_{rate}/fold_2.npy')\n",
    "            fold_3 = np.load(f'/nnUNet_inference/post-processing/results/{pp_config}/rate_{rate}/fold_3.npy')\n",
    "            fold_4 = np.load(f'/nnUNet_inference/post-processing/results/{pp_config}/rate_{rate}/fold_4.npy')\n",
    "\n",
    "            mean_f0 = np.nanmean(fold_0, axis=0)\n",
    "            mean_f1 = np.nanmean(fold_1, axis=0)\n",
    "            mean_f2 = np.nanmean(fold_2, axis=0)\n",
    "            mean_f3 = np.nanmean(fold_3, axis=0)\n",
    "            mean_f4 = np.nanmean(fold_4, axis=0)\n",
    "\n",
    "            folds = np.concatenate(([mean_f0], [mean_f1], [mean_f2], [mean_f3], [mean_f4]))\n",
    "            folds = np.mean(folds, axis=0)\n",
    "            fold_results.append(folds)\n",
    "\n",
    "        stacked_arrays = np.stack(fold_results)\n",
    "\n",
    "        column_max_values = stacked_arrays.max(axis=0)\n",
    "\n",
    "        best_array_indices = np.argmax(stacked_arrays, axis=0)\n",
    "\n",
    "        rate_names = ['0.9', '0.75', '0.25', '0.1']\n",
    "        result_tuples = [(rate_names[int(best_array_indices[i])], column_max_values[i]) for i in range(best_array_indices.shape[0])]\n",
    "\n",
    "        return result_tuples\n",
    "    \n",
    "    else:\n",
    "        fold_0 = np.load(f'/nnUNet_inference/post-processing/results/{pp_config}/fold_0.npy')\n",
    "        fold_1 = np.load(f'/nnUNet_inference/post-processing/results/{pp_config}/fold_1.npy')\n",
    "        fold_2 = np.load(f'/nnUNet_inference/post-processing/results/{pp_config}/fold_2.npy')\n",
    "        fold_3 = np.load(f'/nnUNet_inference/post-processing/results/{pp_config}/fold_3.npy')\n",
    "        fold_4 = np.load(f'/nnUNet_inference/post-processing/results/{pp_config}/fold_4.npy')\n",
    "\n",
    "        mean_f0 = np.nanmean(fold_0, axis=0)\n",
    "        mean_f1 = np.nanmean(fold_1, axis=0)\n",
    "        mean_f2 = np.nanmean(fold_2, axis=0)\n",
    "        mean_f3 = np.nanmean(fold_3, axis=0)\n",
    "        mean_f4 = np.nanmean(fold_4, axis=0)\n",
    "\n",
    "        folds = np.concatenate(([mean_f0], [mean_f1], [mean_f2], [mean_f3], [mean_f4]))\n",
    "        folds = np.mean(folds, axis=0)\n",
    "\n",
    "        return folds"
   ]
  },
  {
   "cell_type": "code",
   "execution_count": 3,
   "metadata": {},
   "outputs": [],
   "source": [
    "def compare_results(pp_res_list):\n",
    "    stacked_arrays = np.stack(pp_res_list)\n",
    "\n",
    "    column_max_values = stacked_arrays.max(axis=0)\n",
    "\n",
    "    best_array_indices = np.argmax(stacked_arrays, axis=0)\n",
    "\n",
    "    rate_names = ['no pp', 'pp1', 'pp2', 'pp3', 'pp4']\n",
    "    result_tuples = [(rate_names[int(best_array_indices[i])], column_max_values[i]) for i in range(best_array_indices.shape[0])]\n",
    "\n",
    "    return result_tuples"
   ]
  },
  {
   "cell_type": "code",
   "execution_count": 8,
   "metadata": {},
   "outputs": [],
   "source": [
    "no_pp = extract_results_pp('no_pp')\n",
    "pp1 = extract_results_pp('pp1')\n",
    "pp1 = [x[1] for x in pp1]\n",
    "pp2 = extract_results_pp('pp2')\n",
    "pp2 = [x[1] for x in pp2]\n",
    "pp3 = extract_results_pp('pp3')\n",
    "pp4 = extract_results_pp('pp4')"
   ]
  },
  {
   "cell_type": "code",
   "execution_count": 9,
   "metadata": {},
   "outputs": [],
   "source": [
    "no_pp = np.array([0.9735046597028312, 0.965719217458046 , 0.9642776093292165,\n",
    "       0.8684161350500847, 0.8906183067290696, 0.9823810139220948,\n",
    "       0.9420473282852548, 0.9660718608552037, 0.9315962376647594,\n",
    "       0.8936070314964478, 0.8492544541037544, 0.8524041917235433])"
   ]
  },
  {
   "cell_type": "code",
   "execution_count": 16,
   "metadata": {},
   "outputs": [
    {
     "data": {
      "text/plain": [
       "[('0.9', 0.9735129149106321),\n",
       " ('0.1', 0.9657473242395358),\n",
       " ('0.1', 0.9643205995256455),\n",
       " ('0.25', 0.8684161626162116),\n",
       " ('0.25', 0.8906182590758298),\n",
       " ('0.75', 0.9824744526573811),\n",
       " ('0.75', 0.9420480125008293),\n",
       " ('0.1', 0.9660690407003758),\n",
       " ('0.25', 0.9316125102466402),\n",
       " ('0.1', 0.8934395873915246),\n",
       " ('0.1', 0.8481156793997432),\n",
       " ('0.75', 0.852512219666389)]"
      ]
     },
     "execution_count": 16,
     "metadata": {},
     "output_type": "execute_result"
    }
   ],
   "source": [
    "pp1"
   ]
  },
  {
   "cell_type": "code",
   "execution_count": 17,
   "metadata": {},
   "outputs": [
    {
     "data": {
      "text/plain": [
       "[('0.9', 0.9735129149106321),\n",
       " ('0.1', 0.9657473242395358),\n",
       " ('0.9', 0.96432135227595),\n",
       " ('0.25', 0.8684161626162116),\n",
       " ('0.9', 0.8906197104384305),\n",
       " ('0.9', 0.9824744526573811),\n",
       " ('0.75', 0.9420480125008293),\n",
       " ('0.1', 0.9660690407003758),\n",
       " ('0.25', 0.9316125102466402),\n",
       " ('0.1', 0.8934653079144657),\n",
       " ('0.9', 0.848130553505856),\n",
       " ('0.75', 0.852512219666389)]"
      ]
     },
     "execution_count": 17,
     "metadata": {},
     "output_type": "execute_result"
    }
   ],
   "source": [
    "pp2"
   ]
  },
  {
   "cell_type": "code",
   "execution_count": 10,
   "metadata": {},
   "outputs": [],
   "source": [
    "results = compare_results([no_pp, pp1, pp2, pp3, pp4])"
   ]
  },
  {
   "cell_type": "code",
   "execution_count": 11,
   "metadata": {},
   "outputs": [
    {
     "data": {
      "text/plain": [
       "[('pp1', 0.9735129149106321),\n",
       " ('pp3', 0.9659880475076303),\n",
       " ('pp2', 0.96432135227595),\n",
       " ('pp1', 0.8684161626162116),\n",
       " ('pp2', 0.8906197104384305),\n",
       " ('pp3', 0.9826584476738294),\n",
       " ('pp3', 0.9426533146609266),\n",
       " ('no pp', 0.9660718608552037),\n",
       " ('pp1', 0.9316125102466402),\n",
       " ('no pp', 0.8936070314964478),\n",
       " ('no pp', 0.8492544541037544),\n",
       " ('pp1', 0.852512219666389)]"
      ]
     },
     "execution_count": 11,
     "metadata": {},
     "output_type": "execute_result"
    }
   ],
   "source": [
    "results"
   ]
  },
  {
   "cell_type": "code",
   "execution_count": 9,
   "metadata": {},
   "outputs": [
    {
     "data": {
      "text/plain": [
       "array([97.351, 96.599, 96.432, 86.842, 89.062, 98.266, 94.265, 96.607,\n",
       "       93.161, 89.361, 84.925, 85.251])"
      ]
     },
     "execution_count": 9,
     "metadata": {},
     "output_type": "execute_result"
    }
   ],
   "source": [
    "(np.array([x[1] for x in results]) * 100).round(3)"
   ]
  },
  {
   "cell_type": "code",
   "execution_count": 10,
   "metadata": {},
   "outputs": [
    {
     "data": {
      "text/plain": [
       "92.344"
      ]
     },
     "execution_count": 10,
     "metadata": {},
     "output_type": "execute_result"
    }
   ],
   "source": [
    "np.mean((np.array([x[1] for x in results]) * 100).round(3)).round(3)"
   ]
  },
  {
   "cell_type": "code",
   "execution_count": 12,
   "metadata": {},
   "outputs": [
    {
     "data": {
      "text/plain": [
       "92.332"
      ]
     },
     "execution_count": 12,
     "metadata": {},
     "output_type": "execute_result"
    }
   ],
   "source": [
    "np.mean((no_pp * 100).round(3)).round(3)"
   ]
  }
 ],
 "metadata": {
  "kernelspec": {
   "display_name": "Python 3 (ipykernel)",
   "language": "python",
   "name": "python3"
  },
  "language_info": {
   "codemirror_mode": {
    "name": "ipython",
    "version": 3
   },
   "file_extension": ".py",
   "mimetype": "text/x-python",
   "name": "python",
   "nbconvert_exporter": "python",
   "pygments_lexer": "ipython3",
   "version": "3.10.13"
  }
 },
 "nbformat": 4,
 "nbformat_minor": 4
}
