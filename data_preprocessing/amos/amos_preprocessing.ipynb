{
 "cells": [
  {
   "cell_type": "markdown",
   "metadata": {},
   "source": [
    "AMOS classes:\n",
    "\n",
    "    spleen: 1\n",
    "    right kidney: 2\n",
    "    left kidney: 3\n",
    "    gallbladder: 4\n",
    "    esophagus: 5\n",
    "    liver: 6\n",
    "    stomach: 7\n",
    "    aorta: 8\n",
    "    inferior vena cava: 9\n",
    "    pancreas: 10\n",
    "    right adrenal gland: 11\n",
    "    left adrenal gland: 12\n",
    "    duodenum: 13\n",
    "    bladder: 14\n",
    "    prostate/uterus: 15\n"
   ]
  },
  {
   "cell_type": "code",
   "execution_count": 1,
   "metadata": {},
   "outputs": [
    {
     "name": "stdout",
     "output_type": "stream",
     "text": [
      " missing cuda symbols while dynamic loading\n",
      " cuFile initialization failed\n"
     ]
    }
   ],
   "source": [
    "import pandas as pd\n",
    "import os\n",
    "import numpy as np\n",
    "import nibabel as nib\n",
    "from tqdm import tqdm\n",
    "import glob\n",
    "\n",
    "from monai.transforms import (\n",
    "    Compose,\n",
    "    LoadImaged,\n",
    ")\n",
    "\n",
    "from monai.data import (\n",
    "    Dataset,\n",
    "    load_decathlon_datalist,\n",
    ")"
   ]
  },
  {
   "cell_type": "code",
   "execution_count": 2,
   "metadata": {},
   "outputs": [],
   "source": [
    "transforms = Compose(\n",
    "            [\n",
    "                LoadImaged(keys=[\"image\", \"label\"], image_only=False),\n",
    "                ]\n",
    ")"
   ]
  },
  {
   "cell_type": "code",
   "execution_count": 17,
   "metadata": {},
   "outputs": [],
   "source": [
    "data_dir = \"/nvmescratch/ceib/multi_organ_seg/AMOS/amos22/\"\n",
    "split_json = \"dataset.json\"\n",
    "\n",
    "datasets = data_dir + split_json\n",
    "datalist = load_decathlon_datalist(datasets, True, \"training\")[:200]\n",
    "val_files = load_decathlon_datalist(datasets, True, \"validation\")[:100]\n",
    "train_ds = Dataset(\n",
    "    data=datalist,\n",
    "    transform=transforms,\n",
    ")\n",
    "val_ds = Dataset(data=val_files, transform=transforms)\n",
    "\n",
    "amos = train_ds + val_ds"
   ]
  },
  {
   "cell_type": "code",
   "execution_count": 20,
   "metadata": {},
   "outputs": [
    {
     "name": "stderr",
     "output_type": "stream",
     "text": [
      "100%|██████████| 300/300 [17:12<00:00,  3.44s/it]\n"
     ]
    }
   ],
   "source": [
    "rare_masks = {}\n",
    "c = 0 \n",
    "for scan in tqdm(amos):\n",
    "    if len(np.unique(scan['label'])) != 16:\n",
    "        rare_masks[c] = scan['label_meta_dict']['filename_or_obj'][-16:]\n",
    "    c += 1"
   ]
  },
  {
   "cell_type": "code",
   "execution_count": 22,
   "metadata": {},
   "outputs": [
    {
     "data": {
      "text/plain": [
       "39"
      ]
     },
     "execution_count": 22,
     "metadata": {},
     "output_type": "execute_result"
    }
   ],
   "source": [
    "len(rare_masks)"
   ]
  },
  {
   "cell_type": "code",
   "execution_count": 21,
   "metadata": {},
   "outputs": [
    {
     "data": {
      "text/plain": [
       "{5: 'amos_0009.nii.gz',\n",
       " 6: 'amos_0010.nii.gz',\n",
       " 13: 'amos_0021.nii.gz',\n",
       " 25: 'amos_0044.nii.gz',\n",
       " 31: 'amos_0052.nii.gz',\n",
       " 33: 'amos_0057.nii.gz',\n",
       " 39: 'amos_0067.nii.gz',\n",
       " 47: 'amos_0079.nii.gz',\n",
       " 61: 'amos_0104.nii.gz',\n",
       " 67: 'amos_0115.nii.gz',\n",
       " 76: 'amos_0129.nii.gz',\n",
       " 79: 'amos_0134.nii.gz',\n",
       " 84: 'amos_0142.nii.gz',\n",
       " 85: 'amos_0143.nii.gz',\n",
       " 89: 'amos_0153.nii.gz',\n",
       " 91: 'amos_0156.nii.gz',\n",
       " 92: 'amos_0158.nii.gz',\n",
       " 100: 'amos_0172.nii.gz',\n",
       " 106: 'amos_0181.nii.gz',\n",
       " 111: 'amos_0190.nii.gz',\n",
       " 124: 'amos_0225.nii.gz',\n",
       " 132: 'amos_0245.nii.gz',\n",
       " 144: 'amos_0279.nii.gz',\n",
       " 148: 'amos_0294.nii.gz',\n",
       " 176: 'amos_0376.nii.gz',\n",
       " 193: 'amos_0402.nii.gz',\n",
       " 204: 'amos_0029.nii.gz',\n",
       " 210: 'amos_0056.nii.gz',\n",
       " 213: 'amos_0070.nii.gz',\n",
       " 220: 'amos_0112.nii.gz',\n",
       " 221: 'amos_0117.nii.gz',\n",
       " 222: 'amos_0120.nii.gz',\n",
       " 229: 'amos_0150.nii.gz',\n",
       " 236: 'amos_0191.nii.gz',\n",
       " 253: 'amos_0247.nii.gz',\n",
       " 272: 'amos_0311.nii.gz',\n",
       " 273: 'amos_0313.nii.gz',\n",
       " 276: 'amos_0323.nii.gz',\n",
       " 287: 'amos_0356.nii.gz'}"
      ]
     },
     "execution_count": 21,
     "metadata": {},
     "output_type": "execute_result"
    }
   ],
   "source": [
    "rare_masks"
   ]
  },
  {
   "cell_type": "code",
   "execution_count": 38,
   "metadata": {},
   "outputs": [
    {
     "name": "stderr",
     "output_type": "stream",
     "text": [
      "100%|██████████| 39/39 [02:31<00:00,  3.88s/it]\n"
     ]
    }
   ],
   "source": [
    "lack_irrelevant_masks = {}\n",
    "c = 0\n",
    "for case in tqdm(rare_masks.keys()):\n",
    "    unique_values = np.unique(amos[case]['label'])\n",
    "    if (len(unique_values)==15 and 14 not in unique_values) or (len(unique_values)==15 and 15 not in unique_values) or (len(unique_values)==14 and 14 not in unique_values and 15 not in unique_values):\n",
    "        lack_irrelevant_masks[c] = amos[case]['label_meta_dict']['filename_or_obj'][-16:]\n",
    "    c += 1"
   ]
  },
  {
   "cell_type": "code",
   "execution_count": 39,
   "metadata": {},
   "outputs": [
    {
     "data": {
      "text/plain": [
       "11"
      ]
     },
     "execution_count": 39,
     "metadata": {},
     "output_type": "execute_result"
    }
   ],
   "source": [
    "len(lack_irrelevant_masks)"
   ]
  },
  {
   "cell_type": "code",
   "execution_count": 40,
   "metadata": {},
   "outputs": [
    {
     "data": {
      "text/plain": [
       "{0: 'amos_0009.nii.gz',\n",
       " 3: 'amos_0044.nii.gz',\n",
       " 8: 'amos_0104.nii.gz',\n",
       " 11: 'amos_0134.nii.gz',\n",
       " 13: 'amos_0143.nii.gz',\n",
       " 14: 'amos_0153.nii.gz',\n",
       " 16: 'amos_0158.nii.gz',\n",
       " 20: 'amos_0225.nii.gz',\n",
       " 26: 'amos_0029.nii.gz',\n",
       " 30: 'amos_0117.nii.gz',\n",
       " 34: 'amos_0247.nii.gz'}"
      ]
     },
     "execution_count": 40,
     "metadata": {},
     "output_type": "execute_result"
    }
   ],
   "source": [
    "lack_irrelevant_masks"
   ]
  }
 ],
 "metadata": {
  "kernelspec": {
   "display_name": "Python 3 (ipykernel)",
   "language": "python",
   "name": "python3"
  }
 },
 "nbformat": 4,
 "nbformat_minor": 2
}
