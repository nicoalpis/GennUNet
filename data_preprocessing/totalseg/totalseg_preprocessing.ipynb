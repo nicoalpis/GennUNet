{
 "cells": [
  {
   "cell_type": "code",
   "execution_count": 1,
   "metadata": {},
   "outputs": [
    {
     "name": "stdout",
     "output_type": "stream",
     "text": [
      " missing cuda symbols while dynamic loading\n",
      " cuFile initialization failed\n"
     ]
    }
   ],
   "source": [
    "import pandas as pd\n",
    "import os\n",
    "import numpy as np\n",
    "import nibabel as nib\n",
    "from tqdm import tqdm\n",
    "import glob\n",
    "\n",
    "from monai.transforms import (\n",
    "    Compose,\n",
    "    LoadImaged,\n",
    ")\n",
    "\n",
    "from monai.data import (\n",
    "    Dataset,\n",
    "    load_decathlon_datalist,\n",
    ")"
   ]
  },
  {
   "cell_type": "code",
   "execution_count": 5,
   "metadata": {},
   "outputs": [],
   "source": [
    "meta = pd.read_csv(\"meta.csv\", sep=';')"
   ]
  },
  {
   "cell_type": "code",
   "execution_count": 9,
   "metadata": {},
   "outputs": [
    {
     "data": {
      "text/plain": [
       "study_type\n",
       "ct thorax-abdomen-pelvis                  143\n",
       "ct neck-thorax-abdomen-pelvis             114\n",
       "ct abdomen-pelvis                          87\n",
       "ct thorax-neck                             79\n",
       "ct angiography head                        65\n",
       "ct neck                                    65\n",
       "ct pelvis                                  55\n",
       "ct thorax-abdomen                          54\n",
       "ct angiography neck-thx-abd-pelvis-leg     50\n",
       "ct abdomen                                 48\n",
       "ct polytrauma                              48\n",
       "ct heart-thorakale aorta                   46\n",
       "ct spine                                   41\n",
       "ct  intervention                           40\n",
       "ct thorax-chest                            39\n",
       "ct aortic valve                            34\n",
       "ct heart                                   34\n",
       "ct angiography thorax-abdomen-pelvis       17\n",
       "ct angiography pelvis-leg                  17\n",
       "ct angiography abdomen-pelvis              14\n",
       "ct angiography thorax                      14\n",
       "ct thorax                                  14\n",
       "ct angiography abdomen-pelvis-leg          13\n",
       "ct left artrium                            13\n",
       "ct  operation                              12\n",
       "ct abdomen                                 12\n",
       "ct upper leg left                          11\n",
       "ct angiography neck                         6\n",
       "ct head                                     6\n",
       "ct whole body                               6\n",
       "ct chest                                    5\n",
       "ct hip right                                4\n",
       "ct head                                     4\n",
       "ct orbita                                   4\n",
       "ct coronary arteries                        3\n",
       "ct polytrauma head                          2\n",
       "ct lower limb left                          1\n",
       "ct gesichtshead                             1\n",
       "ct headbasis-felsenleg                      1\n",
       "ct upper limb both                          1\n",
       "Name: count, dtype: int64"
      ]
     },
     "execution_count": 9,
     "metadata": {},
     "output_type": "execute_result"
    }
   ],
   "source": [
    "meta['study_type'].value_counts()"
   ]
  },
  {
   "cell_type": "code",
   "execution_count": 28,
   "metadata": {},
   "outputs": [],
   "source": [
    "accepted_scan_type = ['ct thorax-abdomen-pelvis', 'ct neck-thorax-abdomen-pelvis', 'ct abdomen-pelvis', 'ct thorax-abdomen', 'ct abdomen', 'ct abdomen ', 'ct polytrauma']"
   ]
  },
  {
   "cell_type": "code",
   "execution_count": 29,
   "metadata": {},
   "outputs": [],
   "source": [
    "meta_list = meta.query(\"study_type in @accepted_scan_type\")['image_id'].values"
   ]
  },
  {
   "cell_type": "code",
   "execution_count": 30,
   "metadata": {},
   "outputs": [
    {
     "data": {
      "text/plain": [
       "491"
      ]
     },
     "execution_count": 30,
     "metadata": {},
     "output_type": "execute_result"
    }
   ],
   "source": [
    "len(meta_list)"
   ]
  },
  {
   "cell_type": "code",
   "execution_count": 58,
   "metadata": {},
   "outputs": [],
   "source": [
    "transforms = Compose(\n",
    "            [\n",
    "                LoadImaged(keys=[\"image\", \"label\"], image_only=False),\n",
    "                ]\n",
    ")"
   ]
  },
  {
   "cell_type": "code",
   "execution_count": 59,
   "metadata": {},
   "outputs": [],
   "source": [
    "data_dir = \"data/Dataset053_MergedWithPathologies/\"\n",
    "\n",
    "train_images = sorted(glob.glob(os.path.join(data_dir, \"imagesTr\", \"s*.nii.gz\")))\n",
    "train_labels = sorted(glob.glob(os.path.join(data_dir, \"labelsTr\", \"s*.nii.gz\")))\n",
    "\n",
    "data_dicts = [{\"image\": image_name, \"label\": label_name} for image_name, label_name in zip(train_images, train_labels)]\n",
    "\n",
    "totalseg = Dataset(\n",
    "    data=data_dicts,\n",
    "    transform=transforms,\n",
    ")"
   ]
  },
  {
   "cell_type": "code",
   "execution_count": 62,
   "metadata": {},
   "outputs": [
    {
     "name": "stderr",
     "output_type": "stream",
     "text": [
      "100%|██████████| 491/491 [12:16<00:00,  1.50s/it]\n"
     ]
    }
   ],
   "source": [
    "rare_masks = {}\n",
    "c = 0 \n",
    "for scan in tqdm(totalseg):\n",
    "    if len(np.unique(scan['label'])) != 13:\n",
    "        rare_masks[c] = scan['label_meta_dict']['filename_or_obj'][-12:]\n",
    "    c += 1"
   ]
  },
  {
   "cell_type": "code",
   "execution_count": 64,
   "metadata": {},
   "outputs": [
    {
     "data": {
      "text/plain": [
       "113"
      ]
     },
     "execution_count": 64,
     "metadata": {},
     "output_type": "execute_result"
    }
   ],
   "source": [
    "len(rare_masks)"
   ]
  },
  {
   "cell_type": "code",
   "execution_count": 65,
   "metadata": {},
   "outputs": [
    {
     "data": {
      "text/plain": [
       "{0: 's0001.nii.gz',\n",
       " 2: 's0006.nii.gz',\n",
       " 5: 's0012.nii.gz',\n",
       " 6: 's0013.nii.gz',\n",
       " 7: 's0014.nii.gz',\n",
       " 9: 's0022.nii.gz',\n",
       " 18: 's0048.nii.gz',\n",
       " 25: 's0066.nii.gz',\n",
       " 27: 's0071.nii.gz',\n",
       " 28: 's0072.nii.gz',\n",
       " 38: 's0092.nii.gz',\n",
       " 39: 's0098.nii.gz',\n",
       " 49: 's0128.nii.gz',\n",
       " 50: 's0131.nii.gz',\n",
       " 51: 's0132.nii.gz',\n",
       " 57: 's0146.nii.gz',\n",
       " 59: 's0151.nii.gz',\n",
       " 61: 's0156.nii.gz',\n",
       " 64: 's0160.nii.gz',\n",
       " 66: 's0162.nii.gz',\n",
       " 67: 's0165.nii.gz',\n",
       " 71: 's0175.nii.gz',\n",
       " 73: 's0179.nii.gz',\n",
       " 80: 's0199.nii.gz',\n",
       " 96: 's0241.nii.gz',\n",
       " 97: 's0242.nii.gz',\n",
       " 100: 's0245.nii.gz',\n",
       " 101: 's0246.nii.gz',\n",
       " 104: 's0249.nii.gz',\n",
       " 110: 's0261.nii.gz',\n",
       " 113: 's0285.nii.gz',\n",
       " 115: 's0291.nii.gz',\n",
       " 117: 's0298.nii.gz',\n",
       " 118: 's0299.nii.gz',\n",
       " 120: 's0304.nii.gz',\n",
       " 121: 's0306.nii.gz',\n",
       " 123: 's0311.nii.gz',\n",
       " 126: 's0321.nii.gz',\n",
       " 127: 's0322.nii.gz',\n",
       " 139: 's0350.nii.gz',\n",
       " 140: 's0353.nii.gz',\n",
       " 150: 's0390.nii.gz',\n",
       " 152: 's0401.nii.gz',\n",
       " 158: 's0421.nii.gz',\n",
       " 165: 's0437.nii.gz',\n",
       " 169: 's0446.nii.gz',\n",
       " 171: 's0450.nii.gz',\n",
       " 186: 's0487.nii.gz',\n",
       " 187: 's0494.nii.gz',\n",
       " 193: 's0505.nii.gz',\n",
       " 204: 's0542.nii.gz',\n",
       " 206: 's0544.nii.gz',\n",
       " 221: 's0577.nii.gz',\n",
       " 223: 's0580.nii.gz',\n",
       " 224: 's0583.nii.gz',\n",
       " 225: 's0584.nii.gz',\n",
       " 227: 's0587.nii.gz',\n",
       " 229: 's0590.nii.gz',\n",
       " 233: 's0598.nii.gz',\n",
       " 245: 's0621.nii.gz',\n",
       " 250: 's0629.nii.gz',\n",
       " 252: 's0636.nii.gz',\n",
       " 253: 's0637.nii.gz',\n",
       " 256: 's0647.nii.gz',\n",
       " 263: 's0658.nii.gz',\n",
       " 269: 's0668.nii.gz',\n",
       " 270: 's0670.nii.gz',\n",
       " 271: 's0679.nii.gz',\n",
       " 272: 's0680.nii.gz',\n",
       " 276: 's0687.nii.gz',\n",
       " 277: 's0688.nii.gz',\n",
       " 279: 's0691.nii.gz',\n",
       " 291: 's0727.nii.gz',\n",
       " 295: 's0735.nii.gz',\n",
       " 296: 's0737.nii.gz',\n",
       " 301: 's0759.nii.gz',\n",
       " 320: 's0802.nii.gz',\n",
       " 322: 's0807.nii.gz',\n",
       " 323: 's0808.nii.gz',\n",
       " 326: 's0821.nii.gz',\n",
       " 327: 's0824.nii.gz',\n",
       " 328: 's0829.nii.gz',\n",
       " 330: 's0833.nii.gz',\n",
       " 334: 's0844.nii.gz',\n",
       " 343: 's0885.nii.gz',\n",
       " 349: 's0910.nii.gz',\n",
       " 357: 's0927.nii.gz',\n",
       " 359: 's0930.nii.gz',\n",
       " 371: 's0976.nii.gz',\n",
       " 377: 's0988.nii.gz',\n",
       " 378: 's0989.nii.gz',\n",
       " 385: 's1016.nii.gz',\n",
       " 387: 's1029.nii.gz',\n",
       " 401: 's1088.nii.gz',\n",
       " 405: 's1101.nii.gz',\n",
       " 418: 's1146.nii.gz',\n",
       " 419: 's1149.nii.gz',\n",
       " 428: 's1178.nii.gz',\n",
       " 429: 's1182.nii.gz',\n",
       " 433: 's1191.nii.gz',\n",
       " 434: 's1197.nii.gz',\n",
       " 435: 's1205.nii.gz',\n",
       " 441: 's1223.nii.gz',\n",
       " 443: 's1228.nii.gz',\n",
       " 446: 's1241.nii.gz',\n",
       " 451: 's1267.nii.gz',\n",
       " 459: 's1293.nii.gz',\n",
       " 462: 's1298.nii.gz',\n",
       " 465: 's1308.nii.gz',\n",
       " 466: 's1309.nii.gz',\n",
       " 473: 's1339.nii.gz',\n",
       " 475: 's1347.nii.gz',\n",
       " 485: 's1418.nii.gz'}"
      ]
     },
     "execution_count": 65,
     "metadata": {},
     "output_type": "execute_result"
    }
   ],
   "source": [
    "rare_masks"
   ]
  }
 ],
 "metadata": {
  "kernelspec": {
   "display_name": "Python 3 (ipykernel)",
   "language": "python",
   "name": "python3"
  }
 },
 "nbformat": 4,
 "nbformat_minor": 2
}
