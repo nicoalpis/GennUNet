{
 "cells": [
  {
   "cell_type": "markdown",
   "id": "8a9f7cda-e8b9-42d2-bff7-3268b63b2c42",
   "metadata": {},
   "source": [
    "BTCV classes:  \n",
    "- spleen\n",
    "- right kidney\n",
    "- left kidney\n",
    "- gallbladder\n",
    "- esophagus\n",
    "- liver\n",
    "- stomach\n",
    "- aorta\n",
    "- inferior vena cava\n",
    "- portal vein and splenic vein\n",
    "- pancreas\n",
    "- right adrenal gland\n",
    "- left adrenal gland\n",
    "\n",
    "AMOS classes:\n",
    "- spleen\n",
    "- right kidney\n",
    "- left kidney\n",
    "- gallbladder\n",
    "- esophagus\n",
    "- liver\n",
    "- stomach\n",
    "- aorta\n",
    "- inferior vena cava\n",
    "- pancreas\n",
    "- right adrenal gland\n",
    "- left adrenal gland\n",
    "- duodenum\n",
    "- bladder\n",
    "- prostate/uterus\n",
    "\n",
    "Total Segmentator classes: Includes all the classes from BTCV & AMOS\n",
    "\n",
    "It is decided to do the intersection of the three datasets, not the union. This implies a reduced number of classes, but also a better generalization of the future model. Therefore, it is necessary to remove the not included masks from the labels of the datasets. Hence, the intersection includes classes:\n",
    "- spleen\n",
    "- right kidney\n",
    "- left kidney\n",
    "- gallbladder\n",
    "- esophagus\n",
    "- liver\n",
    "- stomach\n",
    "- aorta\n",
    "- inferior vena cava\n",
    "- pancreas\n",
    "- right adrenal gland\n",
    "- left adrenal gland"
   ]
  },
  {
   "cell_type": "code",
   "execution_count": 1,
   "id": "90438c5d-56ab-4043-be87-12583cbc596e",
   "metadata": {},
   "outputs": [
    {
     "name": "stderr",
     "output_type": "stream",
     "text": [
      "/tmp/ipykernel_193942/2429736235.py:7: DeprecationWarning: \n",
      "Pyarrow will become a required dependency of pandas in the next major release of pandas (pandas 3.0),\n",
      "(to allow more performant data types, such as the Arrow string type, and better interoperability with other libraries)\n",
      "but was not found to be installed on your system.\n",
      "If this would cause problems for you,\n",
      "please provide us feedback at https://github.com/pandas-dev/pandas/issues/54466\n",
      "        \n",
      "  import pandas as pd\n"
     ]
    }
   ],
   "source": [
    "import matplotlib.pyplot as plt\n",
    "import nibabel as nib\n",
    "import numpy as np\n",
    "import os\n",
    "import shutil\n",
    "from tqdm import tqdm\n",
    "import pandas as pd"
   ]
  },
  {
   "cell_type": "markdown",
   "id": "a7dac268-a726-4d18-b602-09d5262033fe",
   "metadata": {},
   "source": [
    "<h2>TotalSeg</h2>"
   ]
  },
  {
   "cell_type": "code",
   "execution_count": null,
   "id": "f3f8d239",
   "metadata": {},
   "outputs": [],
   "source": [
    "accepted_masks = {'spleen.nii.gz':1, 'kidney_right.nii.gz':2, 'kidney_left.nii.gz':3, 'gallbladder.nii.gz':4, 'esophagus.nii.gz':5, 'liver.nii.gz':6, 'stomach.nii.gz':7, 'aorta.nii.gz': 8, 'inferior_vena_cava.nii.gz':9, 'portal_vein_and_splenic_vein.nii.gz':10, 'pancreas.nii.gz':11, 'adrenal_gland_right.nii.gz':12, 'adrenal_gland_left.nii.gz':13}"
   ]
  },
  {
   "cell_type": "code",
   "execution_count": 2,
   "id": "ee74aea6-1dc8-4299-bdf6-ce9bc09645df",
   "metadata": {},
   "outputs": [],
   "source": [
    "metadata = pd.read_csv('/home/nalvarez/data_analysis/totalseg/totalseg_metadata_def.csv')"
   ]
  },
  {
   "cell_type": "code",
   "execution_count": 11,
   "id": "c7727eec-9d92-4ed3-ac65-d12f8e920197",
   "metadata": {},
   "outputs": [],
   "source": [
    "scans_dir = \"/data/TotalSeg_raw/\"\n",
    "\n",
    "scan_names = sorted(os.listdir(scans_dir))\n",
    "\n",
    "destination_folder = '/data/TotalSeg_raw_combined_masks'"
   ]
  },
  {
   "cell_type": "code",
   "execution_count": null,
   "id": "4dedd658-3d9d-488b-a051-70d08dd074e2",
   "metadata": {},
   "outputs": [],
   "source": [
    "for scan_name in tqdm(scan_names[1:]):\n",
    "    scan_path = os.path.join(scans_dir, scan_name)\n",
    "    image_path = os.path.join(scans_dir, scan_name, 'ct.nii.gz')\n",
    "    combined_segmentation = np.zeros_like(nib.load(image_path).get_fdata()) #Base array where to save all masks\n",
    "    for filename in os.listdir(os.path.join(scans_dir, scan_name, \"segmentations/\")): #Iterate through masks of the same scan\n",
    "        if filename in list(accepted_masks.keys()): #Filter through the relevant masks\n",
    "            mask = nib.load(os.path.join(scans_dir, scan_name, \"segmentations/\", filename))\n",
    "            mask_data = mask.get_fdata()\n",
    "            if len(np.unique(mask_data)) == 1: continue\n",
    "            combined_segmentation[mask_data != 0] = accepted_masks[filename] #Check positions where masks are different from zero\n",
    "    \n",
    "\n",
    "    class_value_to_find = accepted_masks['liver.nii.gz']\n",
    "    for slice_index in reversed(range(combined_segmentation.shape[2])):\n",
    "        current_slice = combined_segmentation[:, :, slice_index]\n",
    "        if class_value_to_find in current_slice:\n",
    "            # Create a new NIfTI image containing slices from the first slice to the last found slice\n",
    "            combined_nii = nib.Nifti1Image(combined_segmentation[:, :, :slice_index + 1], affine=mask.affine)\n",
    "\n",
    "            ct_scan = nib.load(os.path.join(image_path))\n",
    "            ct_data = ct_scan.get_fdata()\n",
    "            new_nifti_image = nib.Nifti1Image(ct_data[:, :, :slice_index + 1], affine=mask.affine)\n",
    "\n",
    "            # Save created NIfTI images\n",
    "            os.makedirs(os.path.join(destination_folder, scan_name)) #Create folder to save contents\n",
    "            nib.save(combined_nii, destination_folder+f'/{scan_name}/{scan_name}_combined_segmentation.nii.gz')  # Save the combined mask as a NIfTI file\n",
    "            nib.save(new_nifti_image, os.path.join(destination_folder, scan_name, 'ct.nii.gz'))\n",
    "            break"
   ]
  },
  {
   "cell_type": "markdown",
   "id": "5c10780b-b6b8-4bdc-aec6-8db2619f95f3",
   "metadata": {},
   "source": [
    "## AMOS"
   ]
  },
  {
   "cell_type": "code",
   "execution_count": null,
   "id": "5d0758ee-c361-44ed-be63-bebd6860e0cd",
   "metadata": {
    "scrolled": true
   },
   "outputs": [],
   "source": [
    "data_dir = \"/data/AMOS/amos22/\"\n",
    "dst_img_dir1 = \"/data/merged_dataset/images/\"\n",
    "dst_label_dir1 = \"/data/merged_dataset/labels/\"\n",
    "\n",
    "for images_folder, labels_folder in tqdm(zip(['imagesTr', 'imagesVa'], ['labelsTr', 'labelsVa'])):\n",
    "    scans_dir = os.path.join(data_dir, labels_folder)\n",
    "    images_dir = os.path.join(data_dir, images_folder)\n",
    "    scan_names = sorted(os.listdir(scans_dir))\n",
    "    for scan_name in scan_names:\n",
    "        scan_path = os.path.join(scans_dir, scan_name)\n",
    "        image_path = os.path.join(images_dir, scan_name)\n",
    "        \n",
    "        mask = nib.load(scan_path)\n",
    "        mask_data = mask.get_fdata()\n",
    "        \n",
    "        combined_segmentation = np.zeros_like(mask_data) #Base array where to save all masks\n",
    "        for accepted_mask in accepted_masks.values():\n",
    "            combined_segmentation[mask_data == accepted_mask] = accepted_mask\n",
    "            \n",
    "        combined_nii = nib.Nifti1Image(combined_segmentation, affine=mask.affine)\n",
    "        nib.save(combined_nii, dst_label_dir1+scan_name)\n",
    "        shutil.copyfile(os.path.join(images_dir, scan_name), dst_img_dir1+scan_name)"
   ]
  },
  {
   "cell_type": "markdown",
   "id": "55507ded-26f9-429f-bd29-e4ea782c703d",
   "metadata": {},
   "source": [
    "<h2>BTCV</h2>"
   ]
  },
  {
   "cell_type": "markdown",
   "id": "1e8dfecd",
   "metadata": {},
   "source": [
    "The variable 'btcv_accepted_masks' is needed because the order of accepted classes in BTCV does not adjust to the intersected list above, i.e. the \"portal vein and splenic vein\" class is in the middle. That is why we need this variable in order to label correctly the classes in the masks. "
   ]
  },
  {
   "cell_type": "code",
   "execution_count": 2,
   "id": "9bfaaa4b",
   "metadata": {},
   "outputs": [],
   "source": [
    "btcv_accepted_masks = {1:1, 2:2, 3:3, 4:4, 5:5, 6:6, 7:7, 8:8, 9:9, 11:10, 12:11, 13:12}"
   ]
  },
  {
   "cell_type": "code",
   "execution_count": null,
   "id": "b7c88c02-8389-4d5b-afeb-d1bae0ce72c5",
   "metadata": {},
   "outputs": [],
   "source": [
    "data_dir = \"/data/BTCV/Abdomen/Task050_BTCV\"\n",
    "dst_img_dir1 = \"/data/merged_dataset/images/\"\n",
    "dst_label_dir1 = \"/data/merged_dataset/labels/\"\n",
    "\n",
    "for images_folder, labels_folder in zip(['imagesTr'], ['labelsTr']):\n",
    "    scans_dir = os.path.join(data_dir, labels_folder)\n",
    "    images_dir = os.path.join(data_dir, images_folder)\n",
    "    scan_names = sorted(os.listdir(scans_dir))\n",
    "    for scan_name in tqdm(scan_names):\n",
    "        scan_path = os.path.join(scans_dir, scan_name)\n",
    "        image_path = os.path.join(images_dir, scan_name)\n",
    "        \n",
    "        mask = nib.load(scan_path)\n",
    "        mask_data = mask.get_fdata()\n",
    "        \n",
    "        combined_segmentation = np.zeros_like(mask_data)\n",
    "        for accepted_mask_key, accepted_mask_value in btcv_accepted_masks.items():\n",
    "            combined_segmentation[mask_data == accepted_mask_key] = accepted_mask_value\n",
    "        \n",
    "        combined_nii = nib.Nifti1Image(combined_segmentation, affine=mask.affine)\n",
    "        nib.save(combined_nii, dst_label_dir1+scan_name)\n",
    "        shutil.copyfile(os.path.join(images_dir, scan_name), dst_img_dir1+scan_name)"
   ]
  }
 ],
 "metadata": {
  "kernelspec": {
   "display_name": "Python 3 (ipykernel)",
   "language": "python",
   "name": "python3"
  },
  "language_info": {
   "codemirror_mode": {
    "name": "ipython",
    "version": 3
   },
   "file_extension": ".py",
   "mimetype": "text/x-python",
   "name": "python",
   "nbconvert_exporter": "python",
   "pygments_lexer": "ipython3",
   "version": "3.10.13"
  }
 },
 "nbformat": 4,
 "nbformat_minor": 5
}
