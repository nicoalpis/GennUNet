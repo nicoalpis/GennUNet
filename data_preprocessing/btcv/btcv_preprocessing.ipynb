{
 "cells": [
  {
   "cell_type": "markdown",
   "metadata": {},
   "source": [
    "BTCV classes:\n",
    "\n",
    "    spleen\n",
    "    right kidney\n",
    "    left kidney\n",
    "    gallbladder\n",
    "    esophagus\n",
    "    liver\n",
    "    stomach\n",
    "    aorta\n",
    "    inferior vena cava\n",
    "    portal vein and splenic vein\n",
    "    pancreas\n",
    "    right adrenal gland\n",
    "    left adrenal gland\n"
   ]
  },
  {
   "cell_type": "code",
   "execution_count": 1,
   "metadata": {},
   "outputs": [
    {
     "name": "stdout",
     "output_type": "stream",
     "text": [
      " missing cuda symbols while dynamic loading\n",
      " cuFile initialization failed\n"
     ]
    }
   ],
   "source": [
    "import pandas as pd\n",
    "import os\n",
    "import numpy as np\n",
    "import nibabel as nib\n",
    "from tqdm import tqdm\n",
    "import glob\n",
    "\n",
    "from monai.transforms import (\n",
    "    Compose,\n",
    "    LoadImaged,\n",
    ")\n",
    "\n",
    "from monai.data import (\n",
    "    Dataset,\n",
    "    load_decathlon_datalist,\n",
    ")"
   ]
  },
  {
   "cell_type": "code",
   "execution_count": 7,
   "metadata": {},
   "outputs": [],
   "source": [
    "transforms = Compose(\n",
    "            [\n",
    "                LoadImaged(keys=[\"image\", \"label\"], image_only=False),\n",
    "                ]\n",
    ")"
   ]
  },
  {
   "cell_type": "code",
   "execution_count": 14,
   "metadata": {},
   "outputs": [],
   "source": [
    "data_dir = \"/nvmescratch/ceib/multi_organ_seg/BTCV/Abdomen/RawData/Dataset050_BTCV\"\n",
    "train_images = sorted(glob.glob(os.path.join(data_dir, \"imagesTr\", \"img*.nii.gz\")))\n",
    "train_labels = sorted(glob.glob(os.path.join(data_dir, \"labelsTr\", \"img*.nii.gz\")))\n",
    "\n",
    "data_dicts = [{\"image\": image_name, \"label\": label_name} for image_name, label_name in zip(train_images, train_labels)]\n",
    "\n",
    "btcv = Dataset(\n",
    "    data=data_dicts,\n",
    "    transform=transforms,\n",
    ")"
   ]
  },
  {
   "cell_type": "code",
   "execution_count": 15,
   "metadata": {},
   "outputs": [
    {
     "name": "stderr",
     "output_type": "stream",
     "text": [
      "100%|██████████| 30/30 [01:05<00:00,  2.19s/it]\n"
     ]
    }
   ],
   "source": [
    "rare_masks = {}\n",
    "c = 0 \n",
    "for scan in tqdm(btcv):\n",
    "    if len(np.unique(scan['label'])) != 14:\n",
    "        rare_masks[c] = scan['label_meta_dict']['filename_or_obj'][-14:]\n",
    "    c += 1"
   ]
  },
  {
   "cell_type": "code",
   "execution_count": 16,
   "metadata": {},
   "outputs": [
    {
     "data": {
      "text/plain": [
       "{12: 'img0023.nii.gz', 24: 'img0035.nii.gz'}"
      ]
     },
     "execution_count": 16,
     "metadata": {},
     "output_type": "execute_result"
    }
   ],
   "source": [
    "rare_masks"
   ]
  },
  {
   "cell_type": "code",
   "execution_count": 18,
   "metadata": {},
   "outputs": [
    {
     "name": "stdout",
     "output_type": "stream",
     "text": [
      "[ 0.  1.  2.  3.  5.  6.  7.  8.  9. 10. 11. 12. 13.]\n",
      "[ 0.  1.  2.  3.  5.  6.  7.  8.  9. 10. 11. 12. 13.]\n"
     ]
    }
   ],
   "source": [
    "print(np.unique(btcv[12]['label']))\n",
    "print(np.unique(btcv[24]['label']))"
   ]
  }
 ],
 "metadata": {
  "kernelspec": {
   "display_name": "Python 3 (ipykernel)",
   "language": "python",
   "name": "python3"
  },
  "language_info": {
   "codemirror_mode": {
    "name": "ipython",
    "version": 3
   },
   "file_extension": ".py",
   "mimetype": "text/x-python",
   "name": "python",
   "nbconvert_exporter": "python",
   "pygments_lexer": "ipython3",
   "version": "3.10.13"
  }
 },
 "nbformat": 4,
 "nbformat_minor": 2
}
